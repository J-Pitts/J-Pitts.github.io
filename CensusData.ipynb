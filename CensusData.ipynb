{
  "nbformat": 4,
  "nbformat_minor": 0,
  "metadata": {
    "colab": {
      "provenance": [],
      "authorship_tag": "ABX9TyPhH5T+dYoKnbGQWCdtsptC",
      "include_colab_link": true
    },
    "kernelspec": {
      "name": "python3",
      "display_name": "Python 3"
    },
    "language_info": {
      "name": "python"
    }
  },
  "cells": [
    {
      "cell_type": "markdown",
      "metadata": {
        "id": "view-in-github",
        "colab_type": "text"
      },
      "source": [
        "<a href=\"https://colab.research.google.com/github/J-Pitts/J-Pitts.github.io/blob/master/CensusData.ipynb\" target=\"_parent\"><img src=\"https://colab.research.google.com/assets/colab-badge.svg\" alt=\"Open In Colab\"/></a>"
      ]
    },
    {
      "cell_type": "code",
      "source": [
        "!pip install censusdata"
      ],
      "metadata": {
        "id": "QfkrxJljJuqR"
      },
      "execution_count": 1,
      "outputs": []
    },
    {
      "cell_type": "code",
      "execution_count": 2,
      "metadata": {
        "id": "PDgtVLJHHp8A"
      },
      "outputs": [],
      "source": [
        "import pandas as pd\n",
        "import censusdata\n",
        "pd.set_option('display.expand_frame_repr', False)\n",
        "pd.set_option('display.precision', 2)"
      ]
    },
    {
      "cell_type": "markdown",
      "source": [
        "Get Relevant Information"
      ],
      "metadata": {
        "id": "Z4NCAVNFbkcu"
      }
    },
    {
      "cell_type": "code",
      "source": [
        "#EMPLOYMENT STATUS FOR THE POPULATION = B23025\n",
        "employment_pop = (pd.DataFrame.from_dict(dict(censusdata.censustable('acs5', 2015, 'B23025')))).columns.values.tolist()\n",
        "#B23025_001E\tEstimate!!Total\n",
        "\n",
        "#EDUCATIONAL ATTAINMENT FOR THE POPULATION\n",
        "education_pop = (pd.DataFrame.from_dict(dict(censusdata.censustable('acs5', 2015, 'B15003')))).columns.values.tolist()\n",
        "\n",
        "#GEOGRAPHIC SPECIFICATION\n",
        "all_states_all_counties = censusdata.censusgeo([('state', '*'), ('county', '*')])\n",
        "\n",
        "#WORKFORCE SIZE\n",
        "workforce_size = (pd.DataFrame.from_dict(dict(censusdata.censustable('acs5', 2015, 'C24010')))).columns.values.tolist()\n",
        "#C24010_001E SEX BY OCCUPATION FOR THE CIVILIAN EMPLOYED POPULATION 16 YEARS AND OVER\n",
        "\n",
        "#GEOGRAPHIC MOBILITY\n",
        "geographic_mobility = (pd.DataFrame.from_dict(dict(censusdata.censustable('acs5', 2015, 'B07410')))).columns.values.tolist()\n",
        "#B07410_003E Estimate!!Total living in area 1 year ago!!With income\n",
        "\n",
        "#Business Bachelors Degrees\n",
        "business_bachelors = (pd.DataFrame.from_dict(dict(censusdata.censustable('acs5', 2015, 'C15010')))).columns.values.tolist()\n",
        "#C15010_004E\tEstimate!!Total!!Business\n"
      ],
      "metadata": {
        "id": "PEd5Xvk9KDoV"
      },
      "execution_count": 3,
      "outputs": []
    },
    {
      "cell_type": "code",
      "source": [
        "df = censusdata.download('acs5', 2015,\n",
        "                             all_states_all_counties,\n",
        "                             employment_pop+education_pop+workforce_size+geographic_mobility+business_bachelors)\n",
        "\n",
        "cols_dict = {'B23025_001E':\t'EMPLOYMENT_POPULATION',\n",
        "             'B15003_001E': 'EDUCATION_POPULATION',\n",
        "             'B15003_023E': 'EDUCATION_Masters',\n",
        "             'B15003_022E': 'EDUCATION_Bachelors',\n",
        "             'C24010_001E': 'CIVILIAN_Workforce',\n",
        "             'B07410_003E':\t'GEOGRAPHICAL_MOBILITY_Workforce',\n",
        "             'C15010_004E':\t'EDUCATION_BUSINESS_BACHELORS',\n",
        "             'B23025_005E':\t'Civilian_Unemployed',\n",
        "            }\n"
      ],
      "metadata": {
        "id": "lL-PkhQTgTsI"
      },
      "execution_count": 4,
      "outputs": []
    },
    {
      "cell_type": "code",
      "source": [
        "df = df.rename(columns=cols_dict)\n",
        "df_main = df[cols_dict.values()]\n",
        "\n",
        "x = df.index.to_series().str.split()\n",
        "\n",
        "location = x.to_string()\n",
        "\n",
        "counties =[]\n",
        "states = []\n",
        "\n",
        "x = (location.split('\\n'))\n",
        "for i in range(len(x)):\n",
        "    y= x[i].split(':')[0]\n",
        "    counties.append( y.split(',')[0])\n",
        "    states.append( y.split(',')[1])\n",
        "  \n",
        "df_main['counties'] = counties\n",
        "df_main['state'] = states\n",
        "df_main = df_main.reset_index(drop=True)"
      ],
      "metadata": {
        "id": "oGqgbOqVnVBO"
      },
      "execution_count": null,
      "outputs": []
    },
    {
      "cell_type": "code",
      "source": [
        "master_bystate = df_main.groupby([\"state\"])[\"EDUCATION_Masters\"].sum()\n",
        "total_bystate = df_main.groupby([\"state\"])[\"EDUCATION_POPULATION\"].sum()\n",
        "\n",
        "education_df = pd.DataFrame(data =[master_bystate.values.tolist(), total_bystate.values.tolist()]).transpose()\n",
        "education_df = education_df.set_index(pd.unique(df_main['state']))\n",
        "education_df = education_df.rename(columns={0: 'EDUCATION_Masters', 1: 'EDUCATION_POPULATION'})\n",
        "education_df = education_df.rename_axis('State')\n",
        "print(education_df['EDUCATION_Masters']/education_df['EDUCATION_POPULATION'])"
      ],
      "metadata": {
        "colab": {
          "base_uri": "https://localhost:8080/"
        },
        "id": "SiaPftZcFGiL",
        "outputId": "01d17223-a1a9-482d-ede8-f93b930edb6f"
      },
      "execution_count": 7,
      "outputs": [
        {
          "output_type": "stream",
          "name": "stdout",
          "text": [
            "State\n",
            " Texas                   0.06\n",
            " Vermont                 0.07\n",
            " Puerto Rico             0.07\n",
            " Pennsylvania            0.05\n",
            " Missouri                0.08\n",
            " Montana                 0.10\n",
            " Nebraska                0.12\n",
            " Florida                 0.09\n",
            " Georgia                 0.19\n",
            " Maine                   0.07\n",
            " Maryland                0.08\n",
            " Massachusetts           0.07\n",
            " Michigan                0.06\n",
            " Minnesota               0.09\n",
            " Nevada                  0.06\n",
            " New Hampshire           0.06\n",
            " New Jersey              0.08\n",
            " New Mexico              0.07\n",
            " Mississippi             0.05\n",
            " New York                0.07\n",
            " North Carolina          0.12\n",
            " North Dakota            0.12\n",
            " Ohio                    0.08\n",
            " Tennessee               0.08\n",
            " Oklahoma                0.06\n",
            " Oregon                  0.07\n",
            " Rhode Island            0.07\n",
            " South Carolina          0.07\n",
            " Iowa                    0.05\n",
            " Kansas                  0.10\n",
            " Kentucky                0.10\n",
            " Colorado                0.08\n",
            " Delaware                0.11\n",
            " District of Columbia    0.07\n",
            " Connecticut             0.05\n",
            " Louisiana               0.07\n",
            " Washington              0.06\n",
            " West Virginia           0.08\n",
            " Wisconsin               0.08\n",
            " Wyoming                 0.05\n",
            " South Dakota            0.09\n",
            " Utah                    0.07\n",
            " Virginia                0.06\n",
            " Illinois                0.06\n",
            " Indiana                 0.07\n",
            " Alabama                 0.07\n",
            " Alaska                  0.10\n",
            " Arizona                 0.11\n",
            " Arkansas                0.09\n",
            " California              0.05\n",
            " Hawaii                  0.07\n",
            " Idaho                   0.06\n",
            "dtype: float64\n"
          ]
        }
      ]
    },
    {
      "cell_type": "code",
      "source": [
        "\n",
        "bachelors_ranking = df_main['EDUCATION_Bachelors'].values.sum() / df_main['EDUCATION_POPULATION'].values.sum()\n",
        "print('Percent of population with a bachelors degree nationwide: {:.2f}%'.format(bachelors_ranking*100))\n",
        "\n",
        "masters_ranking = df_main['EDUCATION_Masters'].values.sum() / df_main['EDUCATION_POPULATION'].values.sum()\n",
        "print('\\nPercent of population with a masters degree nationwide: {:.2f}%'.format(masters_ranking*100))\n",
        "\n",
        "business_bachelors_ranking = df_main['EDUCATION_BUSINESS_BACHELORS'].values.sum() / df_main['EDUCATION_POPULATION'].values.sum()\n",
        "print('\\nPercent of population with a business bachelors degree nationwide: {:.2f}%'.format(business_bachelors_ranking *100))\n"
      ],
      "metadata": {
        "colab": {
          "base_uri": "https://localhost:8080/"
        },
        "id": "FWDP6wR3Kmho",
        "outputId": "d222fd18-c965-4409-e7fd-cd22a9e1114c"
      },
      "execution_count": 9,
      "outputs": [
        {
          "output_type": "stream",
          "name": "stdout",
          "text": [
            "Percent of population with a bachelors degree nationwide: 18.51%\n",
            "\n",
            "Percent of population with a masters degree nationwide: 7.93%\n",
            "\n",
            "Percent of population with a business bachelors degree nationwide: 6.11%\n"
          ]
        }
      ]
    }
  ]
}