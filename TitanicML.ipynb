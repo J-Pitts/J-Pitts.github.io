{
  "nbformat": 4,
  "nbformat_minor": 0,
  "metadata": {
    "colab": {
      "provenance": [],
      "authorship_tag": "ABX9TyNIezQ8hBP+hqoccfAv81ZC",
      "include_colab_link": true
    },
    "kernelspec": {
      "name": "python3",
      "display_name": "Python 3"
    },
    "language_info": {
      "name": "python"
    }
  },
  "cells": [
    {
      "cell_type": "markdown",
      "metadata": {
        "id": "view-in-github",
        "colab_type": "text"
      },
      "source": [
        "<a href=\"https://colab.research.google.com/github/J-Pitts/J-Pitts.github.io/blob/master/TitanicML.ipynb\" target=\"_parent\"><img src=\"https://colab.research.google.com/assets/colab-badge.svg\" alt=\"Open In Colab\"/></a>"
      ]
    },
    {
      "cell_type": "code",
      "source": [
        "import pandas as pd\n",
        "import seaborn as sns\n",
        "\n",
        "from scipy.stats import mstats\n",
        "import numpy as np\n",
        "import scipy.stats as ss\n",
        "\n",
        "import matplotlib.pyplot as plt\n",
        "\n",
        "from sklearn.impute import SimpleImputer\n"
      ],
      "metadata": {
        "id": "6P2Cg6KswSji"
      },
      "execution_count": null,
      "outputs": []
    },
    {
      "cell_type": "markdown",
      "source": [
        "Read and Inspect Data"
      ],
      "metadata": {
        "id": "4r1pZmqywiOe"
      }
    },
    {
      "cell_type": "code",
      "source": [
        "df = pd.read_csv('https://raw.githubusercontent.com/datasciencedojo/datasets/master/titanic.csv')\n",
        "\n",
        "#Check variables\n",
        "\n",
        "print(df.head())\n",
        "\n",
        "print('Shape:', df.shape)\n",
        "\n",
        "print(df.dtypes)\n",
        "\n"
      ],
      "metadata": {
        "id": "Hi-ooVs0wl7y",
        "colab": {
          "base_uri": "https://localhost:8080/"
        },
        "outputId": "9f16ae7a-7396-45c0-ea06-e2c36ea3b1d0"
      },
      "execution_count": null,
      "outputs": [
        {
          "output_type": "stream",
          "name": "stdout",
          "text": [
            "   PassengerId  Survived  Pclass  \\\n",
            "0            1         0       3   \n",
            "1            2         1       1   \n",
            "2            3         1       3   \n",
            "3            4         1       1   \n",
            "4            5         0       3   \n",
            "\n",
            "                                                Name     Sex   Age  SibSp  \\\n",
            "0                            Braund, Mr. Owen Harris    male  22.0      1   \n",
            "1  Cumings, Mrs. John Bradley (Florence Briggs Th...  female  38.0      1   \n",
            "2                             Heikkinen, Miss. Laina  female  26.0      0   \n",
            "3       Futrelle, Mrs. Jacques Heath (Lily May Peel)  female  35.0      1   \n",
            "4                           Allen, Mr. William Henry    male  35.0      0   \n",
            "\n",
            "   Parch            Ticket     Fare Cabin Embarked  \n",
            "0      0         A/5 21171   7.2500   NaN        S  \n",
            "1      0          PC 17599  71.2833   C85        C  \n",
            "2      0  STON/O2. 3101282   7.9250   NaN        S  \n",
            "3      0            113803  53.1000  C123        S  \n",
            "4      0            373450   8.0500   NaN        S  \n",
            "Shape: (891, 12)\n",
            "PassengerId      int64\n",
            "Survived         int64\n",
            "Pclass           int64\n",
            "Name            object\n",
            "Sex             object\n",
            "Age            float64\n",
            "SibSp            int64\n",
            "Parch            int64\n",
            "Ticket          object\n",
            "Fare           float64\n",
            "Cabin           object\n",
            "Embarked        object\n",
            "dtype: object\n"
          ]
        }
      ]
    },
    {
      "cell_type": "markdown",
      "source": [
        "Determine Relevancy"
      ],
      "metadata": {
        "id": "FqvvSULNwzSm"
      }
    },
    {
      "cell_type": "code",
      "source": [
        "# Drop irrelevant\n",
        "df = df.drop(columns=['Name', 'PassengerId','Ticket','SibSp','Parch'])"
      ],
      "metadata": {
        "id": "-yWNObIBw2Nx"
      },
      "execution_count": null,
      "outputs": []
    },
    {
      "cell_type": "markdown",
      "source": [
        "Check for missing data"
      ],
      "metadata": {
        "id": "hzAw4vSGw6I9"
      }
    },
    {
      "cell_type": "code",
      "source": [
        "# Check for missing data easy\n",
        "#for col in df.columns:\n",
        "#  print('Column With Missing Values:', col, df[col].isna().sum())\n",
        "\n",
        "# Check for missing data tabular\n",
        "missing_count = df.isna().sum().tolist()\n",
        "missing_percent = (df.isna().sum()/df.shape[0])*100\n",
        "categories = ['Missing Count','Missing %']\n",
        "\n",
        "missing_data = pd.DataFrame(data=[missing_count, missing_percent], \n",
        "           columns=df.columns, index=categories).transpose()\n",
        "\n",
        "missing_data['Missing %'] = missing_data['Missing %'].map('{:,.2f}%'.format)\n",
        "display(missing_data)"
      ],
      "metadata": {
        "colab": {
          "base_uri": "https://localhost:8080/",
          "height": 269
        },
        "id": "oGByvQ_Cw9he",
        "outputId": "0ad5c299-0c51-4a21-c7c0-4f4d1d7e8c75"
      },
      "execution_count": null,
      "outputs": [
        {
          "output_type": "display_data",
          "data": {
            "text/plain": [
              "          Missing Count Missing %\n",
              "Survived            0.0     0.00%\n",
              "Pclass              0.0     0.00%\n",
              "Sex                 0.0     0.00%\n",
              "Age               177.0    19.87%\n",
              "Fare                0.0     0.00%\n",
              "Cabin             687.0    77.10%\n",
              "Embarked            2.0     0.22%"
            ],
            "text/html": [
              "\n",
              "  <div id=\"df-ad51ed5b-cfa8-4278-821d-15ee0da12ba9\">\n",
              "    <div class=\"colab-df-container\">\n",
              "      <div>\n",
              "<style scoped>\n",
              "    .dataframe tbody tr th:only-of-type {\n",
              "        vertical-align: middle;\n",
              "    }\n",
              "\n",
              "    .dataframe tbody tr th {\n",
              "        vertical-align: top;\n",
              "    }\n",
              "\n",
              "    .dataframe thead th {\n",
              "        text-align: right;\n",
              "    }\n",
              "</style>\n",
              "<table border=\"1\" class=\"dataframe\">\n",
              "  <thead>\n",
              "    <tr style=\"text-align: right;\">\n",
              "      <th></th>\n",
              "      <th>Missing Count</th>\n",
              "      <th>Missing %</th>\n",
              "    </tr>\n",
              "  </thead>\n",
              "  <tbody>\n",
              "    <tr>\n",
              "      <th>Survived</th>\n",
              "      <td>0.0</td>\n",
              "      <td>0.00%</td>\n",
              "    </tr>\n",
              "    <tr>\n",
              "      <th>Pclass</th>\n",
              "      <td>0.0</td>\n",
              "      <td>0.00%</td>\n",
              "    </tr>\n",
              "    <tr>\n",
              "      <th>Sex</th>\n",
              "      <td>0.0</td>\n",
              "      <td>0.00%</td>\n",
              "    </tr>\n",
              "    <tr>\n",
              "      <th>Age</th>\n",
              "      <td>177.0</td>\n",
              "      <td>19.87%</td>\n",
              "    </tr>\n",
              "    <tr>\n",
              "      <th>Fare</th>\n",
              "      <td>0.0</td>\n",
              "      <td>0.00%</td>\n",
              "    </tr>\n",
              "    <tr>\n",
              "      <th>Cabin</th>\n",
              "      <td>687.0</td>\n",
              "      <td>77.10%</td>\n",
              "    </tr>\n",
              "    <tr>\n",
              "      <th>Embarked</th>\n",
              "      <td>2.0</td>\n",
              "      <td>0.22%</td>\n",
              "    </tr>\n",
              "  </tbody>\n",
              "</table>\n",
              "</div>\n",
              "      <button class=\"colab-df-convert\" onclick=\"convertToInteractive('df-ad51ed5b-cfa8-4278-821d-15ee0da12ba9')\"\n",
              "              title=\"Convert this dataframe to an interactive table.\"\n",
              "              style=\"display:none;\">\n",
              "        \n",
              "  <svg xmlns=\"http://www.w3.org/2000/svg\" height=\"24px\"viewBox=\"0 0 24 24\"\n",
              "       width=\"24px\">\n",
              "    <path d=\"M0 0h24v24H0V0z\" fill=\"none\"/>\n",
              "    <path d=\"M18.56 5.44l.94 2.06.94-2.06 2.06-.94-2.06-.94-.94-2.06-.94 2.06-2.06.94zm-11 1L8.5 8.5l.94-2.06 2.06-.94-2.06-.94L8.5 2.5l-.94 2.06-2.06.94zm10 10l.94 2.06.94-2.06 2.06-.94-2.06-.94-.94-2.06-.94 2.06-2.06.94z\"/><path d=\"M17.41 7.96l-1.37-1.37c-.4-.4-.92-.59-1.43-.59-.52 0-1.04.2-1.43.59L10.3 9.45l-7.72 7.72c-.78.78-.78 2.05 0 2.83L4 21.41c.39.39.9.59 1.41.59.51 0 1.02-.2 1.41-.59l7.78-7.78 2.81-2.81c.8-.78.8-2.07 0-2.86zM5.41 20L4 18.59l7.72-7.72 1.47 1.35L5.41 20z\"/>\n",
              "  </svg>\n",
              "      </button>\n",
              "      \n",
              "  <style>\n",
              "    .colab-df-container {\n",
              "      display:flex;\n",
              "      flex-wrap:wrap;\n",
              "      gap: 12px;\n",
              "    }\n",
              "\n",
              "    .colab-df-convert {\n",
              "      background-color: #E8F0FE;\n",
              "      border: none;\n",
              "      border-radius: 50%;\n",
              "      cursor: pointer;\n",
              "      display: none;\n",
              "      fill: #1967D2;\n",
              "      height: 32px;\n",
              "      padding: 0 0 0 0;\n",
              "      width: 32px;\n",
              "    }\n",
              "\n",
              "    .colab-df-convert:hover {\n",
              "      background-color: #E2EBFA;\n",
              "      box-shadow: 0px 1px 2px rgba(60, 64, 67, 0.3), 0px 1px 3px 1px rgba(60, 64, 67, 0.15);\n",
              "      fill: #174EA6;\n",
              "    }\n",
              "\n",
              "    [theme=dark] .colab-df-convert {\n",
              "      background-color: #3B4455;\n",
              "      fill: #D2E3FC;\n",
              "    }\n",
              "\n",
              "    [theme=dark] .colab-df-convert:hover {\n",
              "      background-color: #434B5C;\n",
              "      box-shadow: 0px 1px 3px 1px rgba(0, 0, 0, 0.15);\n",
              "      filter: drop-shadow(0px 1px 2px rgba(0, 0, 0, 0.3));\n",
              "      fill: #FFFFFF;\n",
              "    }\n",
              "  </style>\n",
              "\n",
              "      <script>\n",
              "        const buttonEl =\n",
              "          document.querySelector('#df-ad51ed5b-cfa8-4278-821d-15ee0da12ba9 button.colab-df-convert');\n",
              "        buttonEl.style.display =\n",
              "          google.colab.kernel.accessAllowed ? 'block' : 'none';\n",
              "\n",
              "        async function convertToInteractive(key) {\n",
              "          const element = document.querySelector('#df-ad51ed5b-cfa8-4278-821d-15ee0da12ba9');\n",
              "          const dataTable =\n",
              "            await google.colab.kernel.invokeFunction('convertToInteractive',\n",
              "                                                     [key], {});\n",
              "          if (!dataTable) return;\n",
              "\n",
              "          const docLinkHtml = 'Like what you see? Visit the ' +\n",
              "            '<a target=\"_blank\" href=https://colab.research.google.com/notebooks/data_table.ipynb>data table notebook</a>'\n",
              "            + ' to learn more about interactive tables.';\n",
              "          element.innerHTML = '';\n",
              "          dataTable['output_type'] = 'display_data';\n",
              "          await google.colab.output.renderOutput(dataTable, element);\n",
              "          const docLink = document.createElement('div');\n",
              "          docLink.innerHTML = docLinkHtml;\n",
              "          element.appendChild(docLink);\n",
              "        }\n",
              "      </script>\n",
              "    </div>\n",
              "  </div>\n",
              "  "
            ]
          },
          "metadata": {}
        }
      ]
    },
    {
      "cell_type": "markdown",
      "source": [
        "Impute Data : Fill Missing Data"
      ],
      "metadata": {
        "id": "-YYdEVJ5xPuN"
      }
    },
    {
      "cell_type": "code",
      "source": [
        "#Fill missing ages\n",
        "age_imputer = SimpleImputer(strategy='median')\n",
        "df['Age'] = age_imputer.fit_transform(df['Age'].values.reshape(-1,1))\n"
      ],
      "metadata": {
        "id": "IEJFj5OixeKv"
      },
      "execution_count": null,
      "outputs": []
    },
    {
      "cell_type": "markdown",
      "source": [
        "Remove Unusable Columns: The cabin variable is missing too many values for me to justify filling. Conceptually, cabin designation may relate to survival given scenarios such as proximity to emergency raft."
      ],
      "metadata": {
        "id": "A1IjeKZ_yEfX"
      }
    },
    {
      "cell_type": "code",
      "source": [
        "df = df.drop('Cabin', axis=1)"
      ],
      "metadata": {
        "id": "KOXzfYTeyZvf"
      },
      "execution_count": null,
      "outputs": []
    },
    {
      "cell_type": "markdown",
      "source": [
        "Lets check the distribution of the remaining columns"
      ],
      "metadata": {
        "id": "MEkwutRXyjg1"
      }
    },
    {
      "cell_type": "code",
      "source": [
        "print(df.describe())\n",
        "\n",
        "# Check numerical columns, excluding dependent variable\n",
        "for col in df.drop('Survived', axis=1).select_dtypes(exclude=['object']).columns:\n",
        "  sns.displot(data=df.select_dtypes(exclude=['object']), x=col)\n"
      ],
      "metadata": {
        "colab": {
          "base_uri": "https://localhost:8080/",
          "height": 1000
        },
        "id": "cAu4LBmjys6L",
        "outputId": "df4c4551-3ba6-4d9a-f1d4-7463199475f6"
      },
      "execution_count": null,
      "outputs": [
        {
          "output_type": "stream",
          "name": "stdout",
          "text": [
            "         Survived      Pclass         Age        Fare    vote_age\n",
            "count  891.000000  891.000000  891.000000  891.000000  891.000000\n",
            "mean     0.383838    2.308642   29.361582   32.204208    0.873176\n",
            "std      0.486592    0.836071   13.019697   49.693429    0.332962\n",
            "min      0.000000    1.000000    0.420000    0.000000    0.000000\n",
            "25%      0.000000    2.000000   22.000000    7.910400    1.000000\n",
            "50%      0.000000    3.000000   28.000000   14.454200    1.000000\n",
            "75%      1.000000    3.000000   35.000000   31.000000    1.000000\n",
            "max      1.000000    3.000000   80.000000  512.329200    1.000000\n"
          ]
        },
        {
          "output_type": "display_data",
          "data": {
            "text/plain": [
              "<Figure size 500x500 with 1 Axes>"
            ],
            "image/png": "[encoded data removed]"
          },
          "metadata": {}
        },
        {
          "output_type": "display_data",
          "data": {
            "text/plain": [
              "<Figure size 500x500 with 1 Axes>"
            ],
            "image/png": "[encoded data removed]"
          },
          "metadata": {}
        },
        {
          "output_type": "display_data",
          "data": {
            "text/plain": [
              "<Figure size 500x500 with 1 Axes>"
            ],
            "image/png": "[encoded data removed]"
          },
          "metadata": {}
        },
        {
          "output_type": "display_data",
          "data": {
            "text/plain": [
              "<Figure size 500x500 with 1 Axes>"
            ],
            "image/png": "[encoded data removed]"
          },
          "metadata": {}
        }
      ]
    },
    {
      "cell_type": "markdown",
      "source": [
        "We have some skew issues, especially with Fare. Time to scale numerical values"
      ],
      "metadata": {
        "id": "SXlawPrXy-el"
      }
    },
    {
      "cell_type": "code",
      "source": [],
      "metadata": {
        "id": "aqp3_qqg0GTr"
      },
      "execution_count": null,
      "outputs": []
    },
    {
      "cell_type": "markdown",
      "source": [
        "Statistics - Zscore, descriptions etc."
      ],
      "metadata": {
        "id": "hjNeI8JW2COy"
      }
    },
    {
      "cell_type": "code",
      "execution_count": null,
      "metadata": {
        "id": "lnjIzbRlNhRp",
        "colab": {
          "base_uri": "https://localhost:8080/",
          "height": 712
        },
        "outputId": "ee7127a3-cd68-4cfc-f265-05e84846a4d5"
      },
      "outputs": [
        {
          "output_type": "stream",
          "name": "stdout",
          "text": [
            "Fare 512.3292 14.4542\n"
          ]
        },
        {
          "output_type": "display_data",
          "data": {
            "text/plain": [
              "<Figure size 960x720 with 1 Axes>"
            ],
            "image/png": "[encoded data removed]"
          },
          "metadata": {}
        }
      ],
      "source": [
        "\n",
        "\n",
        "def zscore(col):\n",
        "  zscore_rate = ss.zscore(df[col], ddof=0)\n",
        "  z_test = df.assign(zscore=zscore_rate)\n",
        "  return df.assign(zscore=zscore_rate)\n",
        "\n",
        "\n",
        "\n",
        "def plot_anomaly(score_data, threshold, col):\n",
        "    \n",
        "    score_data = score_data.copy().sort_values(ascending=False).values\n",
        "    ranks = np.linspace(1, len(score_data), len(score_data))\n",
        "    mask_outlier = (score_data < threshold)\n",
        "    \n",
        "    \n",
        "    plt.figure(dpi=150)\n",
        "    plt.plot(ranks[mask_outlier], score_data[mask_outlier],'o', color='b',label='Reasonable')\n",
        "    plt.plot(ranks[~mask_outlier], score_data[~mask_outlier],'o', color='r', label='Outliers')\n",
        "    plt.axhline(threshold,color='r',label='threshold', alpha=0.5)\n",
        "    plt.legend(loc = 'lower left')\n",
        "    plt.title((col+' Z-score'), fontweight='bold')\n",
        "    plt.xlabel(('Ranked '+col))\n",
        "    plt.ylabel('Z-score')\n",
        "    plt.show()\n",
        "\n",
        "\n",
        "df2 = df.drop('Survived', axis = 1)\n",
        "\n",
        "\n",
        "for col in df2.select_dtypes(exclude=['object']).columns:\n",
        "  #x = zscore(col)\n",
        "  if np.max(df2[col]) > (3 * np.median(df2[col])):\n",
        "    print(col, np.max(df2[col]),np.median(df2[col]))\n",
        "    plot_anomaly(zscore(col)['zscore'], 5, col)\n",
        "   #df[col] = mstats.winsorize(df[col], limits=[0.05, 0.05])\n",
        "\n",
        "#df['Fare'] = mstats.winsorize(df['Fare'], limits=[0.05, 0.05])\n",
        "\n",
        "#sns.displot(data=df['Fare'].values, x=df['Fare'])\n",
        "\n",
        "\n",
        "\n"
      ]
    },
    {
      "cell_type": "code",
      "source": [
        "from sklearn.model_selection import train_test_split\n",
        "\n",
        "# separate features and target\n",
        "X = df.drop('Survived', axis=1)\n",
        "y = df['Survived']\n",
        "    \n",
        "# split the data into training and test set\n",
        "X_train, X_test, y_train, y_test = train_test_split(\n",
        "    X, y, test_size=0.3, random_state=4)"
      ],
      "metadata": {
        "id": "gxDAgZQmQmA4"
      },
      "execution_count": null,
      "outputs": []
    },
    {
      "cell_type": "code",
      "source": [
        "# import libraries\n",
        "from sklearn.pipeline import make_pipeline, Pipeline\n",
        "from sklearn.impute import SimpleImputer\n",
        "from sklearn.preprocessing import OneHotEncoder, MinMaxScaler\n",
        "from sklearn.compose import ColumnTransformer\n",
        "from sklearn.linear_model import LogisticRegression\n",
        "from sklearn.metrics import accuracy_score\n",
        "from sklearn.ensemble import RandomForestClassifier\n",
        "from sklearn.tree import DecisionTreeClassifier\n",
        "from sklearn.svm import SVC\n",
        "from sklearn.ensemble import RandomForestClassifier\n",
        "from sklearn.ensemble import GradientBoostingClassifier\n",
        "from sklearn.ensemble import BaggingClassifier\n",
        "\n",
        "\n",
        "# get the categorical and numeric column names\n",
        "num_cols = X_train.select_dtypes(exclude=['object']).columns.tolist()\n",
        "cat_cols = X_train.select_dtypes(include=['object']).columns.tolist()\n",
        "\n",
        "# pipeline for numerical columns\n",
        "num_pipe = make_pipeline(\n",
        "    SimpleImputer(strategy='median'),\n",
        "    MinMaxScaler()\n",
        ")\n",
        "# pipeline for categorical columns\n",
        "cat_pipe = make_pipeline(\n",
        "    SimpleImputer(strategy='constant', fill_value='N/A'),\n",
        "    OneHotEncoder(handle_unknown='ignore', sparse_output=False)\n",
        ")\n",
        "\n",
        "# combine both the pipelines\n",
        "full_pipe = ColumnTransformer([\n",
        "    ('num', num_pipe, num_cols),\n",
        "    ('cat', cat_pipe, cat_cols)\n",
        "])\n",
        "\n",
        "models = [DecisionTreeClassifier(),\n",
        "          SVC(gamma='scale'),\n",
        "          BaggingClassifier(n_estimators=100),\n",
        "          RandomForestClassifier(n_estimators=100),\n",
        "          GradientBoostingClassifier(n_estimators=100),\n",
        "          LogisticRegression(max_iter=1000, random_state=42)]\n",
        "\n",
        "\n",
        "#print(models)\n",
        "# build the model\n",
        "for model in models:\n",
        "  i = make_pipeline(full_pipe, model)\n",
        "  i.fit(X_train, y_train)\n",
        "  print(model, accuracy_score(y_test,i.predict(X_test)))\n"
      ],
      "metadata": {
        "colab": {
          "base_uri": "https://localhost:8080/"
        },
        "id": "X9nXCvHIQ2bD",
        "outputId": "76c13c1f-a828-47c5-995b-87bf0aa60657"
      },
      "execution_count": null,
      "outputs": [
        {
          "output_type": "stream",
          "name": "stdout",
          "text": [
            "DecisionTreeClassifier() 0.8097014925373134\n",
            "SVC() 0.835820895522388\n",
            "BaggingClassifier(n_estimators=100) 0.8395522388059702\n",
            "RandomForestClassifier() 0.8395522388059702\n",
            "GradientBoostingClassifier() 0.8619402985074627\n",
            "LogisticRegression(max_iter=1000, random_state=42) 0.8171641791044776\n"
          ]
        }
      ]
    },
    {
      "cell_type": "markdown",
      "source": [
        "Our best success was Gradient Boosting"
      ],
      "metadata": {
        "id": "FKPNKEt8n9F2"
      }
    },
    {
      "cell_type": "code",
      "source": [
        "print()"
      ],
      "metadata": {
        "id": "UDuwdM-IoG7k"
      },
      "execution_count": null,
      "outputs": []
    }
  ]
}