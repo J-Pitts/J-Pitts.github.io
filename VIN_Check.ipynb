{
  "nbformat": 4,
  "nbformat_minor": 0,
  "metadata": {
    "colab": {
      "provenance": [],
      "mount_file_id": "1ZMh7iqCfhqF5Bk5qSyGK9eipjSpuPlUs",
      "authorship_tag": "ABX9TyO+IxQi/ziUgAz7+42lzoIV",
      "include_colab_link": true
    },
    "kernelspec": {
      "name": "python3",
      "display_name": "Python 3"
    },
    "language_info": {
      "name": "python"
    }
  },
  "cells": [
    {
      "cell_type": "markdown",
      "metadata": {
        "id": "view-in-github",
        "colab_type": "text"
      },
      "source": [
        "<a href=\"https://colab.research.google.com/github/J-Pitts/J-Pitts.github.io/blob/master/VIN_Check.ipynb\" target=\"_parent\"><img src=\"https://colab.research.google.com/assets/colab-badge.svg\" alt=\"Open In Colab\"/></a>"
      ]
    },
    {
      "cell_type": "markdown",
      "source": [
        "VIN Check using tkinter and BeautifulSoup"
      ],
      "metadata": {
        "id": "dMreBkO7JJmb"
      }
    },
    {
      "cell_type": "markdown",
      "source": [
        "Imports"
      ],
      "metadata": {
        "id": "0jgm_7e5KJYX"
      }
    },
    {
      "cell_type": "code",
      "source": [
        "from csv import reader          #read csv\n",
        "import requests                 #website pull\n",
        "from bs4 import BeautifulSoup   #website data extraction\n",
        "\n",
        "#display input box to paste VIN to\n",
        "import tkinter as tk            \n",
        "from tkinter import simpledialog\n",
        "from tkinter import messagebox\n",
        "\n",
        "import sys as sys\n",
        "\n",
        "import ctypes  # for response dialogue box"
      ],
      "metadata": {
        "id": "-LobOKe-KLcw"
      },
      "execution_count": null,
      "outputs": []
    },
    {
      "cell_type": "markdown",
      "source": [
        "Main Function"
      ],
      "metadata": {
        "id": "0722Tf-xK-5J"
      }
    },
    {
      "cell_type": "code",
      "execution_count": 4,
      "metadata": {
        "colab": {
          "base_uri": "https://localhost:8080/",
          "height": 356
        },
        "id": "sH5hZtY5HC7f",
        "outputId": "fbf8eeb9-8df4-4080-8e22-71a41af766ff"
      },
      "outputs": [
        {
          "output_type": "error",
          "ename": "TclError",
          "evalue": "ignored",
          "traceback": [
            "\u001b[0;31m---------------------------------------------------------------------------\u001b[0m",
            "\u001b[0;31mTclError\u001b[0m                                  Traceback (most recent call last)",
            "\u001b[0;32m<ipython-input-4-7d0952fa7584>\u001b[0m in \u001b[0;36m<cell line: 13>\u001b[0;34m()\u001b[0m\n\u001b[1;32m     13\u001b[0m \u001b[0;32mwhile\u001b[0m \u001b[0mx\u001b[0m \u001b[0;34m==\u001b[0m \u001b[0;36m0\u001b[0m\u001b[0;34m:\u001b[0m\u001b[0;34m\u001b[0m\u001b[0;34m\u001b[0m\u001b[0m\n\u001b[1;32m     14\u001b[0m \u001b[0;34m\u001b[0m\u001b[0m\n\u001b[0;32m---> 15\u001b[0;31m     \u001b[0mroot\u001b[0m \u001b[0;34m=\u001b[0m \u001b[0mtk\u001b[0m\u001b[0;34m.\u001b[0m\u001b[0mTk\u001b[0m\u001b[0;34m(\u001b[0m\u001b[0;34m)\u001b[0m\u001b[0;34m\u001b[0m\u001b[0;34m\u001b[0m\u001b[0m\n\u001b[0m\u001b[1;32m     16\u001b[0m     \u001b[0mroot\u001b[0m\u001b[0;34m.\u001b[0m\u001b[0mtk\u001b[0m\u001b[0;34m.\u001b[0m\u001b[0meval\u001b[0m\u001b[0;34m(\u001b[0m\u001b[0;34mf'tk::PlaceWindow {root._w} center'\u001b[0m\u001b[0;34m)\u001b[0m\u001b[0;34m\u001b[0m\u001b[0;34m\u001b[0m\u001b[0m\n\u001b[1;32m     17\u001b[0m \u001b[0;34m\u001b[0m\u001b[0m\n",
            "\u001b[0;32m/usr/lib/python3.9/tkinter/__init__.py\u001b[0m in \u001b[0;36m__init__\u001b[0;34m(self, screenName, baseName, className, useTk, sync, use)\u001b[0m\n\u001b[1;32m   2268\u001b[0m                 \u001b[0mbaseName\u001b[0m \u001b[0;34m=\u001b[0m \u001b[0mbaseName\u001b[0m \u001b[0;34m+\u001b[0m \u001b[0mext\u001b[0m\u001b[0;34m\u001b[0m\u001b[0;34m\u001b[0m\u001b[0m\n\u001b[1;32m   2269\u001b[0m         \u001b[0minteractive\u001b[0m \u001b[0;34m=\u001b[0m \u001b[0;32mFalse\u001b[0m\u001b[0;34m\u001b[0m\u001b[0;34m\u001b[0m\u001b[0m\n\u001b[0;32m-> 2270\u001b[0;31m         \u001b[0mself\u001b[0m\u001b[0;34m.\u001b[0m\u001b[0mtk\u001b[0m \u001b[0;34m=\u001b[0m \u001b[0m_tkinter\u001b[0m\u001b[0;34m.\u001b[0m\u001b[0mcreate\u001b[0m\u001b[0;34m(\u001b[0m\u001b[0mscreenName\u001b[0m\u001b[0;34m,\u001b[0m \u001b[0mbaseName\u001b[0m\u001b[0;34m,\u001b[0m \u001b[0mclassName\u001b[0m\u001b[0;34m,\u001b[0m \u001b[0minteractive\u001b[0m\u001b[0;34m,\u001b[0m \u001b[0mwantobjects\u001b[0m\u001b[0;34m,\u001b[0m \u001b[0museTk\u001b[0m\u001b[0;34m,\u001b[0m \u001b[0msync\u001b[0m\u001b[0;34m,\u001b[0m \u001b[0muse\u001b[0m\u001b[0;34m)\u001b[0m\u001b[0;34m\u001b[0m\u001b[0;34m\u001b[0m\u001b[0m\n\u001b[0m\u001b[1;32m   2271\u001b[0m         \u001b[0;32mif\u001b[0m \u001b[0museTk\u001b[0m\u001b[0;34m:\u001b[0m\u001b[0;34m\u001b[0m\u001b[0;34m\u001b[0m\u001b[0m\n\u001b[1;32m   2272\u001b[0m             \u001b[0mself\u001b[0m\u001b[0;34m.\u001b[0m\u001b[0m_loadtk\u001b[0m\u001b[0;34m(\u001b[0m\u001b[0;34m)\u001b[0m\u001b[0;34m\u001b[0m\u001b[0;34m\u001b[0m\u001b[0m\n",
            "\u001b[0;31mTclError\u001b[0m: no display name and no $DISPLAY environment variable"
          ]
        }
      ],
      "source": [
        "# While loop - Always want message box up and ready to use\n",
        "x=0\n",
        "while x == 0:\n",
        "\n",
        "    # Start tk function\n",
        "    root = tk.Tk()\n",
        "    root.tk.eval(f'tk::PlaceWindow {root._w} center')\n",
        "\n",
        "    root.withdraw()\n",
        "\n",
        "    # prompt for input\n",
        "    USER_INP = simpledialog.askstring(title=\"VIN Check\",\n",
        "                                  prompt=\"What is the VIN?\")\n",
        "\n",
        "\n",
        "    #Base URL + input gets right to the page\n",
        "    URL = 'https://vpic.nhtsa.dot.gov/decoder/Decoder/ExportToExcel?VIN=' + USER_INP\n",
        "\n",
        "    page = requests.get(URL)\n",
        "\n",
        "\n",
        "    #Write to csv\n",
        "    with open('file.csv', 'wb') as f:\n",
        "        f.write(page.content)\n",
        "\n",
        "    #Looking for Body Class\n",
        "    check = [\"Body Class\"]\n",
        "\n",
        "    data = []\n",
        "\n",
        "    #Open csv and check rows\n",
        "    with open(r'C:\\Users\\JamiePitts\\Desktop\\Mosc\\Programming\\\\file.csv', 'r') as read_obj:\n",
        "\n",
        "        csv_reader = reader(read_obj)\n",
        "        for row in csv_reader:\n",
        "            if 'Body Class' in row: data.append(row)\n",
        "    \n",
        "    print(check)\n",
        "    print(data[-1][-1])\n",
        "\n",
        "    #Message box to show user\n",
        "    ctypes.windll.user32.MessageBoxW(0, data[-1][-1],'Vehicle Body Class',  1)\n",
        "\n",
        "sys.exit()\n"
      ]
    }
  ]
}