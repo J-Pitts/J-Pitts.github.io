{
  "nbformat": 4,
  "nbformat_minor": 0,
  "metadata": {
    "colab": {
      "provenance": [],
      "mount_file_id": "1pfR-Gd0i_byjV5x1eS_kkkNASGKXBmgH",
      "authorship_tag": "ABX9TyO0ldjVFa3gO//s3v/SbGJ7",
      "include_colab_link": true
    },
    "kernelspec": {
      "name": "python3",
      "display_name": "Python 3"
    },
    "language_info": {
      "name": "python"
    }
  },
  "cells": [
    {
      "cell_type": "markdown",
      "metadata": {
        "id": "view-in-github",
        "colab_type": "text"
      },
      "source": [
        "<a href=\"https://colab.research.google.com/github/J-Pitts/J-Pitts.github.io/blob/master/08CrisisLTVCarPrices.ipynb\" target=\"_parent\"><img src=\"https://colab.research.google.com/assets/colab-badge.svg\" alt=\"Open In Colab\"/></a>"
      ]
    },
    {
      "cell_type": "markdown",
      "source": [
        "St. Loius Fed Data - Auto Loan Prices Vs Financing LTVs Around 2008 Collapse"
      ],
      "metadata": {
        "id": "CyGqd6SM9hZ6"
      }
    },
    {
      "cell_type": "code",
      "execution_count": null,
      "metadata": {
        "id": "PSIb-DpV8KD8"
      },
      "outputs": [],
      "source": [
        "import pandas as pd\n",
        "import numpy as np\n",
        "import matplotlib.pyplot as plt\n",
        "from matplotlib.pyplot import *\n",
        "\n",
        "df1 = pd.read_csv(r\"...\\DTCTLVULNM.csv\")\n",
        "df2 = pd.read_csv(r\"...\\DTCTLVENANM.csv\")\n",
        "\n",
        "#print(df1.shape)\n",
        "#print(df1.describe())\n",
        "#print(df1.head())\n",
        "\n",
        "df2 = df2[df2['DTCTLVENANM'] != '.']\n",
        "\n",
        "x = df2.merge(df1, on='DATE', how='left')\n",
        "\n",
        "x = x.dropna()\n",
        "\n",
        "#print(x.dtypes)\n",
        "\n",
        "x['DATE'] = pd.to_datetime(x['DATE'])\n",
        "x[\"DATE\"] = x[\"DATE\"].apply(lambda x: x.strftime('%Y-%m'))\n",
        "x['DTCTLVENANM']= pd.to_numeric(x['DTCTLVENANM'])\n",
        "\n",
        "fig, ax = plt.subplots(2, sharex=True)\n",
        "ax[0].plot(x['DATE'],x['DTCTLVENANM'], color='red')\n",
        "ax[1].plot(x['DATE'],x['DTCTLVULNM'], color='blue')\n",
        "\n",
        "plt.setp(ax[1].get_xticklabels(), rotation=70, ha=\"right\")\n",
        "\n",
        "ax[0].set_title('Auto Financed Amount Compared To LTV %')\n",
        "ax[0].set_ylabel('Financed Amount')\n",
        "ax[1].set_ylabel('LTV %')\n",
        "\n",
        "plt.xlabel('Time')\n",
        "\n",
        "print(x.describe())\n",
        "\n",
        "print('Correlation :',round(x['DTCTLVENANM'].corr(x['DTCTLVULNM']),2))\n"
      ]
    }
  ]
}